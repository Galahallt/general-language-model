{
 "cells": [
  {
   "cell_type": "markdown",
   "metadata": {},
   "source": [
    "# General Language Model\n",
    "Write a program that prompts a user for a starting sentence or theme. Then, use an LLM API (could be OpenAI's or Google's) to generate a certain style of text continuation based on the input.  You may choose your own style.\n",
    "\n",
    "In this assignment, I will be using Google's Gemini API."
   ]
  },
  {
   "cell_type": "markdown",
   "metadata": {},
   "source": [
    "### Import Libraries"
   ]
  },
  {
   "cell_type": "code",
   "execution_count": 2,
   "metadata": {},
   "outputs": [
    {
     "name": "stderr",
     "output_type": "stream",
     "text": [
      "/mnt/c/Users/espir/Documents/DLSU/MS/3rd Term AY23-24/CSC714M/general-language-model/.venv/lib/python3.10/site-packages/tqdm/auto.py:21: TqdmWarning: IProgress not found. Please update jupyter and ipywidgets. See https://ipywidgets.readthedocs.io/en/stable/user_install.html\n",
      "  from .autonotebook import tqdm as notebook_tqdm\n"
     ]
    }
   ],
   "source": [
    "import google.generativeai as genai\n",
    "\n",
    "import random\n",
    "import time\n",
    "import pandas as pd\n",
    "import seaborn as sns\n",
    "\n",
    "import config\n",
    "import dataset"
   ]
  },
  {
   "cell_type": "markdown",
   "metadata": {},
   "source": [
    "### Authenticate Google Cloud Information to access Google API"
   ]
  },
  {
   "cell_type": "code",
   "execution_count": 2,
   "metadata": {},
   "outputs": [
    {
     "name": "stdout",
     "output_type": "stream",
     "text": [
      "Your browser has been opened to visit:\n",
      "\n",
      "    https://accounts.google.com/o/oauth2/auth?response_type=code&client_id=324070085151-3jv8j73qtehnrtofnvjglcd97vl3leq1.apps.googleusercontent.com&redirect_uri=http%3A%2F%2Flocalhost%3A8085%2F&scope=https%3A%2F%2Fwww.googleapis.com%2Fauth%2Fcloud-platform+https%3A%2F%2Fwww.googleapis.com%2Fauth%2Fgenerative-language.tuning&state=FdA3ssZorXCB7donxZqbl7pW4VbTDS&access_type=offline&code_challenge=San-5s5Ol1OFmXKg-F0tcSjoS3MB7_2zgYKGZgbzIRY&code_challenge_method=S256\n",
      "\n",
      "\n",
      "Credentials saved to file: [/home/dysconyus/.config/gcloud/application_default_credentials.json]\n",
      "\n",
      "These credentials will be used by any library that requests Application Default Credentials (ADC).\n"
     ]
    }
   ],
   "source": [
    "!gcloud auth application-default login --client-id-file client_secret.json --scopes='https://www.googleapis.com/auth/cloud-platform,https://www.googleapis.com/auth/generative-language.tuning'"
   ]
  },
  {
   "cell_type": "markdown",
   "metadata": {},
   "source": [
    "### Create a Fine-tuned model"
   ]
  },
  {
   "cell_type": "code",
   "execution_count": 28,
   "metadata": {},
   "outputs": [
    {
     "data": {
      "text/plain": [
       "Model(name='models/gemini-1.0-pro-001',\n",
       "      base_model_id='',\n",
       "      version='001',\n",
       "      display_name='Gemini 1.0 Pro 001 (Tuning)',\n",
       "      description=('The best model for scaling across a wide range of tasks. This is a stable '\n",
       "                   'model that supports tuning.'),\n",
       "      input_token_limit=30720,\n",
       "      output_token_limit=2048,\n",
       "      supported_generation_methods=['generateContent', 'countTokens', 'createTunedModel'],\n",
       "      temperature=0.9,\n",
       "      top_p=1.0,\n",
       "      top_k=None)"
      ]
     },
     "execution_count": 28,
     "metadata": {},
     "output_type": "execute_result"
    }
   ],
   "source": [
    "base_model = [\n",
    "    m\n",
    "    for m in genai.list_models()\n",
    "    if \"createTunedModel\" in m.supported_generation_methods\n",
    "][0]\n",
    "base_model"
   ]
  },
  {
   "cell_type": "code",
   "execution_count": 29,
   "metadata": {},
   "outputs": [],
   "source": [
    "name = f\"f1-commentary-{random.randint(0, 10000)}\"\n",
    "\n",
    "operation = genai.create_tuned_model(\n",
    "    source_model=base_model.name,\n",
    "    training_data=dataset.commentary_data,\n",
    "    id=name,\n",
    "    epoch_count=100,\n",
    "    batch_size=4,\n",
    "    learning_rate=0.001,\n",
    ")"
   ]
  },
  {
   "cell_type": "code",
   "execution_count": 30,
   "metadata": {},
   "outputs": [
    {
     "data": {
      "text/plain": [
       "TunedModel(name='tunedModels/f1-commentary-5019',\n",
       "           source_model='models/gemini-1.0-pro-001',\n",
       "           base_model='models/gemini-1.0-pro-001',\n",
       "           display_name='',\n",
       "           description='',\n",
       "           temperature=0.9,\n",
       "           top_p=1.0,\n",
       "           top_k=0,\n",
       "           state=<State.CREATING: 1>,\n",
       "           create_time=datetime.datetime(2024, 5, 12, 4, 26, 59, 524336, tzinfo=datetime.timezone.utc),\n",
       "           update_time=datetime.datetime(2024, 5, 12, 4, 26, 59, 524336, tzinfo=datetime.timezone.utc),\n",
       "           tuning_task=TuningTask(start_time=datetime.datetime(2024, 5, 12, 4, 27, 3, 809547, tzinfo=datetime.timezone.utc),\n",
       "                                  complete_time=None,\n",
       "                                  snapshots=[],\n",
       "                                  hyperparameters=Hyperparameters(epoch_count=100,\n",
       "                                                                  batch_size=4,\n",
       "                                                                  learning_rate=0.001)))"
      ]
     },
     "execution_count": 30,
     "metadata": {},
     "output_type": "execute_result"
    }
   ],
   "source": [
    "model = genai.get_tuned_model(f\"tunedModels/{name}\")\n",
    "\n",
    "model"
   ]
  },
  {
   "cell_type": "markdown",
   "metadata": {},
   "source": [
    "### See List of Tuned Models"
   ]
  },
  {
   "cell_type": "code",
   "execution_count": 4,
   "metadata": {},
   "outputs": [
    {
     "name": "stdout",
     "output_type": "stream",
     "text": [
      "\n",
      "Available tuned models: ['tunedModels/f1-commentary-5019']\n"
     ]
    }
   ],
   "source": [
    "print(\n",
    "    \"\\nAvailable tuned models:\",\n",
    "    [m.name for i, m in zip(range(5), genai.list_tuned_models())],\n",
    ")"
   ]
  },
  {
   "cell_type": "markdown",
   "metadata": {},
   "source": [
    "### Check tuning progress"
   ]
  },
  {
   "cell_type": "code",
   "execution_count": 32,
   "metadata": {},
   "outputs": [
    {
     "data": {
      "text/plain": [
       "tuned_model: \"tunedModels/f1-commentary-5019\"\n",
       "total_steps: 375"
      ]
     },
     "execution_count": 32,
     "metadata": {},
     "output_type": "execute_result"
    }
   ],
   "source": [
    "# check the model's metadata\n",
    "operation.metadata"
   ]
  },
  {
   "cell_type": "code",
   "execution_count": 33,
   "metadata": {},
   "outputs": [
    {
     "name": "stderr",
     "output_type": "stream",
     "text": [
      "100%|██████████| 375/375 [07:12<00:00,  1.15s/it]\n"
     ]
    }
   ],
   "source": [
    "# As the new model is in a \"creating\" state we must wait for it to finish\n",
    "for status in operation.wait_bar():\n",
    "    time.sleep(30)"
   ]
  },
  {
   "cell_type": "markdown",
   "metadata": {},
   "source": [
    "#### Check Loss Curve"
   ]
  },
  {
   "cell_type": "code",
   "execution_count": 34,
   "metadata": {},
   "outputs": [
    {
     "data": {
      "text/plain": [
       "<Axes: xlabel='epoch', ylabel='mean_loss'>"
      ]
     },
     "execution_count": 34,
     "metadata": {},
     "output_type": "execute_result"
    },
    {
     "data": {
      "image/png": "[encoded data removed]",
      "text/plain": [
       "<Figure size 640x480 with 1 Axes>"
      ]
     },
     "metadata": {},
     "output_type": "display_data"
    }
   ],
   "source": [
    "model = operation.result()\n",
    "\n",
    "snapshots = pd.DataFrame(model.tuning_task.snapshots)\n",
    "\n",
    "sns.lineplot(data=snapshots, x=\"epoch\", y=\"mean_loss\")"
   ]
  },
  {
   "cell_type": "markdown",
   "metadata": {},
   "source": [
    "### Try the tuned model with new inputs"
   ]
  },
  {
   "cell_type": "code",
   "execution_count": 9,
   "metadata": {},
   "outputs": [
    {
     "data": {
      "text/plain": [
       "'tunedModels/f1-commentary-5019'"
      ]
     },
     "execution_count": 9,
     "metadata": {},
     "output_type": "execute_result"
    }
   ],
   "source": [
    "test_name = \"tunedModels/f1-commentary-5019\"\n",
    "model = genai.GenerativeModel(model_name=f\"{test_name}\")\n",
    "model.model_name"
   ]
  },
  {
   "cell_type": "code",
   "execution_count": 13,
   "metadata": {},
   "outputs": [
    {
     "name": "stdout",
     "output_type": "stream",
     "text": [
      "Glass shatters into a million pieces as the cars collide, the deafening screech of brakes piercing through the air. Hamilton's Mercedes, a blur of silver and speed, has clipped the rear of Verstappen's Red Bull, sending both cars spinning into the gravel. The crowd gasps in unison, their hearts pounding in their chests. The safety car is deployed, its lights flashing furiously, as the marshals rush to clear the wreckage. The race is on hold, the tension hanging heavy in the air.\n"
     ]
    }
   ],
   "source": [
    "result = model.generate_content(config.CONTEXT + input())\n",
    "\n",
    "print(result.text)"
   ]
  }
 ],
 "metadata": {
  "kernelspec": {
   "display_name": ".venv",
   "language": "python",
   "name": "python3"
  },
  "language_info": {
   "codemirror_mode": {
    "name": "ipython",
    "version": 3
   },
   "file_extension": ".py",
   "mimetype": "text/x-python",
   "name": "python",
   "nbconvert_exporter": "python",
   "pygments_lexer": "ipython3",
   "version": "3.10.12"
  }
 },
 "nbformat": 4,
 "nbformat_minor": 2
}
